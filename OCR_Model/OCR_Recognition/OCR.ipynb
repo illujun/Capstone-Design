{
 "cells": [
  {
   "cell_type": "code",
   "execution_count": 1,
   "id": "e26b99d7",
   "metadata": {},
   "outputs": [],
   "source": [
    "from google.cloud import vision\n",
    "import os\n",
    "import io\n",
    "import cv2\n",
    "import numpy as np\n",
    "import time"
   ]
  },
  {
   "cell_type": "code",
   "execution_count": null,
   "id": "361ce7d0",
   "metadata": {},
   "outputs": [],
   "source": [
    "os.environ['GOOGLE_APPLICATION_CREDENTIALS'] = 'google-credentials-ocr.json'\n",
    "\n",
    "client = vision.ImageAnnotatorClient()\n",
    "\n",
    "output_dir = 'visionocr_result'\n",
    "os.makedirs(output_dir, exist_ok= True)\n",
    "\n",
    "image_files= [\n",
    "    'pill_front', 'pill_back'\n",
    "]\n",
    "\n"
   ]
  }
 ],
 "metadata": {
  "kernelspec": {
   "display_name": "Python 3",
   "language": "python",
   "name": "python3"
  },
  "language_info": {
   "name": "python",
   "version": "3.13.0"
  }
 },
 "nbformat": 4,
 "nbformat_minor": 5
}
